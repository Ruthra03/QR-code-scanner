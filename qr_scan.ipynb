{
 "cells": [
  {
   "cell_type": "code",
   "execution_count": 2,
   "metadata": {},
   "outputs": [],
   "source": [
    "import cv2\n",
    "import webbrowser"
   ]
  },
  {
   "cell_type": "code",
   "execution_count": 6,
   "metadata": {},
   "outputs": [],
   "source": [
    "cap = cv2.VideoCapture(0) # Capture video from default camera\n",
    "# initialize the cv2 QRCode detector \n",
    "detector = cv2.QRCodeDetector()"
   ]
  },
  {
   "cell_type": "code",
   "execution_count": 7,
   "metadata": {},
   "outputs": [
    {
     "name": "stdout",
     "output_type": "stream",
     "text": [
      "URL : https://drive.google.com/drive/folders/1omY7VUz31N-cQ8ah00bqGLE970hV-Shh\n"
     ]
    }
   ],
   "source": [
    "while True: \n",
    "    ret, img = cap.read()\n",
    "    if not ret:\n",
    "        print(\"Failed to capture image\")\n",
    "        break\n",
    "    \n",
    "    data, bbox, _ = detector.detectAndDecode(img)\n",
    "    \n",
    "    # Check if there is a QRCode in the image \n",
    "    if data:\n",
    "        a = data\n",
    "        break\n",
    "    \n",
    "    cv2.imshow(\"QRCODEscanner\", img)\n",
    "    \n",
    "    # Check for 'q' key press to break the loop\n",
    "    if cv2.waitKey(1) == ord(\"q\"):\n",
    "        break\n",
    "\n",
    "# Open the URL if a QR code was detected\n",
    "if data:\n",
    "    print(f'URL : {data}')\n",
    "    webbrowser.open(str(a))\n",
    "\n",
    "cap.release()\n",
    "cv2.destroyAllWindows()\n"
   ]
  },
  {
   "cell_type": "code",
   "execution_count": null,
   "metadata": {},
   "outputs": [],
   "source": []
  }
 ],
 "metadata": {
  "kernelspec": {
   "display_name": "Python 3",
   "language": "python",
   "name": "python3"
  },
  "language_info": {
   "codemirror_mode": {
    "name": "ipython",
    "version": 3
   },
   "file_extension": ".py",
   "mimetype": "text/x-python",
   "name": "python",
   "nbconvert_exporter": "python",
   "pygments_lexer": "ipython3",
   "version": "3.12.1"
  }
 },
 "nbformat": 4,
 "nbformat_minor": 2
}
